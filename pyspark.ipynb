{
  "nbformat": 4,
  "nbformat_minor": 0,
  "metadata": {
    "colab": {
      "provenance": [],
      "authorship_tag": "ABX9TyNnlDLtnHD1gtiiotVkPDG6",
      "include_colab_link": true
    },
    "kernelspec": {
      "name": "python3",
      "display_name": "Python 3"
    },
    "language_info": {
      "name": "python"
    }
  },
  "cells": [
    {
      "cell_type": "markdown",
      "metadata": {
        "id": "view-in-github",
        "colab_type": "text"
      },
      "source": [
        "<a href=\"https://colab.research.google.com/github/mo3azf/PySpark---Stock-Market-Price-Analysis-Project/blob/main/pyspark.ipynb\" target=\"_parent\"><img src=\"https://colab.research.google.com/assets/colab-badge.svg\" alt=\"Open In Colab\"/></a>"
      ]
    },
    {
      "cell_type": "markdown",
      "source": [
        "# 1- Reading and Cleaning Stock Price Data\n",
        "\n"
      ],
      "metadata": {
        "id": "R0aoK8ELAIyy"
      }
    },
    {
      "cell_type": "code",
      "source": [
        "import findspark\n",
        "findspark.init()\n",
        "import pyspark\n",
        "from pyspark.sql import SparkSession"
      ],
      "metadata": {
        "id": "5IwP98TjBLkg"
      },
      "execution_count": 3,
      "outputs": []
    },
    {
      "cell_type": "code",
      "source": [
        "spark = SparkSession.builder.appName('Stock Price Analysis').getOrCreate()"
      ],
      "metadata": {
        "id": "x4mTeJJhBLDQ"
      },
      "execution_count": 4,
      "outputs": []
    },
    {
      "cell_type": "code",
      "execution_count": 114,
      "metadata": {
        "id": "FoR5prCJ9yv1"
      },
      "outputs": [],
      "source": [
        "##reading csv data => Stocks\n",
        "stocks = spark.read.csv(\"/content/ PySpark - Stock Market Price Analysis Project/StockData\", header=True)"
      ]
    },
    {
      "cell_type": "code",
      "source": [
        "#seeing the data\n",
        "stocks.show(5)"
      ],
      "metadata": {
        "colab": {
          "base_uri": "https://localhost:8080/"
        },
        "id": "yR_a-YsIBLMR",
        "outputId": "5401302b-7bd5-4d98-abd5-9f800c69712b"
      },
      "execution_count": 115,
      "outputs": [
        {
          "output_type": "stream",
          "name": "stdout",
          "text": [
            "+------+----------+----------+-------+--------+--------+--------+\n",
            "|Ticker|      Date|Close/Last| Volume|    Open|    High|     Low|\n",
            "+------+----------+----------+-------+--------+--------+--------+\n",
            "| BRK-B|05/31/2023|  $321.08 |6175417|$321.12 |$322.41 |$319.39 |\n",
            "| BRK-B|05/30/2023|  $322.19 |3232461|$321.86 |$322.47 |$319.00 |\n",
            "| BRK-B|05/26/2023|  $320.60 |3229873|$320.44 |$322.63 |$319.67 |\n",
            "| BRK-B|05/25/2023|  $319.02 |4251935|$320.56 |$320.56 |$317.71 |\n",
            "| BRK-B|05/24/2023|  $320.20 |3075393|$322.71 |$323.00 |$319.56 |\n",
            "+------+----------+----------+-------+--------+--------+--------+\n",
            "only showing top 5 rows\n",
            "\n"
          ]
        }
      ]
    },
    {
      "cell_type": "code",
      "source": [
        "#seeing the schema of the data => data types in Dataframe\n",
        "# we see that columns like (volume,open,high..) defined as string\n",
        "# should chenge the types leater to do some operations\n",
        "stocks.printSchema()"
      ],
      "metadata": {
        "colab": {
          "base_uri": "https://localhost:8080/"
        },
        "id": "GXQsobhHBLOr",
        "outputId": "14367921-4334-441e-a4ee-e9efeb941533"
      },
      "execution_count": 116,
      "outputs": [
        {
          "output_type": "stream",
          "name": "stdout",
          "text": [
            "root\n",
            " |-- Ticker: string (nullable = true)\n",
            " |-- Date: string (nullable = true)\n",
            " |-- Close/Last: string (nullable = true)\n",
            " |-- Volume: string (nullable = true)\n",
            " |-- Open: string (nullable = true)\n",
            " |-- High: string (nullable = true)\n",
            " |-- Low: string (nullable = true)\n",
            "\n"
          ]
        }
      ]
    },
    {
      "cell_type": "code",
      "source": [
        "#basic select operation => select Ticker, Date and Close price\n",
        "stocks.select(\"Ticker\").show(3)"
      ],
      "metadata": {
        "colab": {
          "base_uri": "https://localhost:8080/"
        },
        "id": "chmAQHcpBLRf",
        "outputId": "b9e63398-fb25-4025-a31b-4592da112762"
      },
      "execution_count": 117,
      "outputs": [
        {
          "output_type": "stream",
          "name": "stdout",
          "text": [
            "+------+\n",
            "|Ticker|\n",
            "+------+\n",
            "| BRK-B|\n",
            "| BRK-B|\n",
            "| BRK-B|\n",
            "+------+\n",
            "only showing top 3 rows\n",
            "\n"
          ]
        }
      ]
    },
    {
      "cell_type": "code",
      "source": [
        "stocks.select([\"Ticker\",\"Date\",\"Open\"]).show(5)"
      ],
      "metadata": {
        "colab": {
          "base_uri": "https://localhost:8080/"
        },
        "id": "F4-6CwcBGZOi",
        "outputId": "82927ffc-ebed-4b1d-b89e-265c9f186680"
      },
      "execution_count": 118,
      "outputs": [
        {
          "output_type": "stream",
          "name": "stdout",
          "text": [
            "+------+----------+--------+\n",
            "|Ticker|      Date|    Open|\n",
            "+------+----------+--------+\n",
            "| BRK-B|05/31/2023|$321.12 |\n",
            "| BRK-B|05/30/2023|$321.86 |\n",
            "| BRK-B|05/26/2023|$320.44 |\n",
            "| BRK-B|05/25/2023|$320.56 |\n",
            "| BRK-B|05/24/2023|$322.71 |\n",
            "+------+----------+--------+\n",
            "only showing top 5 rows\n",
            "\n"
          ]
        }
      ]
    },
    {
      "cell_type": "code",
      "source": [
        "#filtring data => select rows containing Microsoft Stocks in Last Month\n",
        "stocks.filter((stocks.Ticker == \"MSFT\") & (stocks.Date ==\"05/31/2023\")).show(10)"
      ],
      "metadata": {
        "colab": {
          "base_uri": "https://localhost:8080/"
        },
        "id": "f-N-g_wDG5jZ",
        "outputId": "be31a015-0730-481f-eb49-06a0645cef1d"
      },
      "execution_count": 119,
      "outputs": [
        {
          "output_type": "stream",
          "name": "stdout",
          "text": [
            "+------+----------+----------+--------+--------+--------+--------+\n",
            "|Ticker|      Date|Close/Last|  Volume|    Open|    High|     Low|\n",
            "+------+----------+----------+--------+--------+--------+--------+\n",
            "|  MSFT|05/31/2023|  $328.39 |45950550|$332.29 |$335.94 |$327.33 |\n",
            "+------+----------+----------+--------+--------+--------+--------+\n",
            "\n"
          ]
        }
      ]
    },
    {
      "cell_type": "code",
      "source": [
        "stocks.filter(((stocks.Ticker == \"MSFT\") | (stocks.Ticker == \"V\")) & (stocks.Date ==\"05/31/2023\")).show(10)"
      ],
      "metadata": {
        "colab": {
          "base_uri": "https://localhost:8080/"
        },
        "id": "kJ3RanFxHZ63",
        "outputId": "e666d146-24ce-4ff9-908b-efcdf4b5661d"
      },
      "execution_count": 225,
      "outputs": [
        {
          "output_type": "stream",
          "name": "stdout",
          "text": [
            "+------+----------+----------+--------+------+------+------+----------+------+\n",
            "|Ticker|      Date|Close/Last|  Volume|  Open|  High|   Low|ParsedDate| Close|\n",
            "+------+----------+----------+--------+------+------+------+----------+------+\n",
            "|  MSFT|05/31/2023|  $328.39 |45950550|332.29|335.94|327.33|2023-05-31|328.39|\n",
            "|     V|05/31/2023|  $221.03 |20460620|219.96|221.53|216.14|2023-05-31|221.03|\n",
            "+------+----------+----------+--------+------+------+------+----------+------+\n",
            "\n"
          ]
        }
      ]
    },
    {
      "cell_type": "code",
      "source": [
        "#user Define Function\n",
        "stocks.printSchema()"
      ],
      "metadata": {
        "colab": {
          "base_uri": "https://localhost:8080/"
        },
        "id": "xwDj9yAkItwv",
        "outputId": "b90355a0-7631-4ecd-ccfc-efb15601a739"
      },
      "execution_count": 226,
      "outputs": [
        {
          "output_type": "stream",
          "name": "stdout",
          "text": [
            "root\n",
            " |-- Ticker: string (nullable = true)\n",
            " |-- Date: string (nullable = true)\n",
            " |-- Close/Last: string (nullable = true)\n",
            " |-- Volume: integer (nullable = true)\n",
            " |-- Open: float (nullable = true)\n",
            " |-- High: float (nullable = true)\n",
            " |-- Low: float (nullable = true)\n",
            " |-- ParsedDate: date (nullable = true)\n",
            " |-- Close: float (nullable = true)\n",
            "\n"
          ]
        }
      ]
    },
    {
      "cell_type": "code",
      "source": [
        "from pyspark.sql.functions import udf,to_date\n",
        "from pyspark.sql.types import DataType\n",
        "from datetime import datetime"
      ],
      "metadata": {
        "id": "11ONs_fJPuY7"
      },
      "execution_count": 227,
      "outputs": []
    },
    {
      "cell_type": "code",
      "source": [
        "stocks = stocks.withColumn(\"ParsedDate\", to_date(stocks.Date, \"MM/dd/yyyy\"))"
      ],
      "metadata": {
        "id": "PrgAMFAhQnWl"
      },
      "execution_count": 228,
      "outputs": []
    },
    {
      "cell_type": "code",
      "source": [
        "stocks.printSchema()"
      ],
      "metadata": {
        "colab": {
          "base_uri": "https://localhost:8080/"
        },
        "id": "I932-M9Eh2Js",
        "outputId": "c2975c5e-3cc4-4ece-ff17-b7296cb001b0"
      },
      "execution_count": 229,
      "outputs": [
        {
          "output_type": "stream",
          "name": "stdout",
          "text": [
            "root\n",
            " |-- Ticker: string (nullable = true)\n",
            " |-- Date: string (nullable = true)\n",
            " |-- Close/Last: string (nullable = true)\n",
            " |-- Volume: integer (nullable = true)\n",
            " |-- Open: float (nullable = true)\n",
            " |-- High: float (nullable = true)\n",
            " |-- Low: float (nullable = true)\n",
            " |-- ParsedDate: date (nullable = true)\n",
            " |-- Close: float (nullable = true)\n",
            "\n"
          ]
        }
      ]
    },
    {
      "cell_type": "code",
      "source": [
        "def num_parser(value):\n",
        "  if isinstance(value,str):\n",
        "    return float(value.strip(\"$\"))\n",
        "  elif isinstance(value,int) or isinstance(value,float):\n",
        "    return value\n",
        "  else:\n",
        "    return None\n",
        "from pyspark.sql.types import FloatType\n",
        "parser_number = udf(num_parser,FloatType())"
      ],
      "metadata": {
        "id": "oDiqAefdRbSZ"
      },
      "execution_count": 230,
      "outputs": []
    },
    {
      "cell_type": "code",
      "source": [
        "stocks = (stocks.withColumn(\"Open\",parser_number(stocks.Open))\n",
        "                .withColumn(\"Close\",parser_number(stocks[\"Close/Last\"]))\n",
        "                .withColumn(\"Low\",parser_number(stocks.Low))\n",
        "                .withColumn(\"High\",parser_number(stocks.High)))\n"
      ],
      "metadata": {
        "id": "PAHj8_j-cXeZ"
      },
      "execution_count": 231,
      "outputs": []
    },
    {
      "cell_type": "code",
      "source": [
        "stocks.printSchema()"
      ],
      "metadata": {
        "colab": {
          "base_uri": "https://localhost:8080/"
        },
        "id": "DklPhUfBcqRw",
        "outputId": "e3cb5b90-c205-45bd-d598-27dd2e97b6df"
      },
      "execution_count": 232,
      "outputs": [
        {
          "output_type": "stream",
          "name": "stdout",
          "text": [
            "root\n",
            " |-- Ticker: string (nullable = true)\n",
            " |-- Date: string (nullable = true)\n",
            " |-- Close/Last: string (nullable = true)\n",
            " |-- Volume: integer (nullable = true)\n",
            " |-- Open: float (nullable = true)\n",
            " |-- High: float (nullable = true)\n",
            " |-- Low: float (nullable = true)\n",
            " |-- ParsedDate: date (nullable = true)\n",
            " |-- Close: float (nullable = true)\n",
            "\n"
          ]
        }
      ]
    },
    {
      "cell_type": "code",
      "source": [
        "from pyspark.sql.types import IntegerType\n",
        "parse_int = udf(lambda value: int(value),IntegerType())"
      ],
      "metadata": {
        "id": "1i-2xccfj9QL"
      },
      "execution_count": 233,
      "outputs": []
    },
    {
      "cell_type": "code",
      "source": [
        "#Changing the datatype of the column\n",
        "stocks = stocks.withColumn(\"Volume\",parse_int(stocks.Volume))"
      ],
      "metadata": {
        "id": "iwEIbPfEk4Vq"
      },
      "execution_count": 234,
      "outputs": []
    },
    {
      "cell_type": "code",
      "source": [
        "stocks.printSchema()"
      ],
      "metadata": {
        "colab": {
          "base_uri": "https://localhost:8080/"
        },
        "id": "ODlehuAclIBL",
        "outputId": "db5c18a7-cdc2-42a0-a9de-fdf473edbadc"
      },
      "execution_count": 235,
      "outputs": [
        {
          "output_type": "stream",
          "name": "stdout",
          "text": [
            "root\n",
            " |-- Ticker: string (nullable = true)\n",
            " |-- Date: string (nullable = true)\n",
            " |-- Close/Last: string (nullable = true)\n",
            " |-- Volume: integer (nullable = true)\n",
            " |-- Open: float (nullable = true)\n",
            " |-- High: float (nullable = true)\n",
            " |-- Low: float (nullable = true)\n",
            " |-- ParsedDate: date (nullable = true)\n",
            " |-- Close: float (nullable = true)\n",
            "\n"
          ]
        }
      ]
    },
    {
      "cell_type": "code",
      "source": [
        "cleaned_stocks = stocks.select([\"Ticker\",\"ParsedDate\",\"Volume\",\"Open\",\"Low\",\"High\",\"Close\"])"
      ],
      "metadata": {
        "id": "aSN2oUp5lK8a"
      },
      "execution_count": 236,
      "outputs": []
    },
    {
      "cell_type": "code",
      "source": [
        "cleaned_stocks.show(10)"
      ],
      "metadata": {
        "colab": {
          "base_uri": "https://localhost:8080/"
        },
        "id": "M_Oy2xSQlq0a",
        "outputId": "17eedc70-be31-409e-cae9-1feb8a82b016"
      },
      "execution_count": 237,
      "outputs": [
        {
          "output_type": "stream",
          "name": "stdout",
          "text": [
            "+------+----------+-------+------+------+------+------+\n",
            "|Ticker|ParsedDate| Volume|  Open|   Low|  High| Close|\n",
            "+------+----------+-------+------+------+------+------+\n",
            "| BRK-B|2023-05-31|6175417|321.12|319.39|322.41|321.08|\n",
            "| BRK-B|2023-05-30|3232461|321.86| 319.0|322.47|322.19|\n",
            "| BRK-B|2023-05-26|3229873|320.44|319.67|322.63| 320.6|\n",
            "| BRK-B|2023-05-25|4251935|320.56|317.71|320.56|319.02|\n",
            "| BRK-B|2023-05-24|3075393|322.71|319.56| 323.0| 320.2|\n",
            "| BRK-B|2023-05-23|4031342|328.19|322.97|329.27|323.11|\n",
            "| BRK-B|2023-05-22|2763422|330.75|328.35|331.49|329.13|\n",
            "| BRK-B|2023-05-19|4323538| 331.0|329.12|333.94|330.39|\n",
            "| BRK-B|2023-05-18|2808329|326.87|325.85|329.98|329.76|\n",
            "| BRK-B|2023-05-17|3047626|325.02|324.82|328.26|327.39|\n",
            "+------+----------+-------+------+------+------+------+\n",
            "only showing top 10 rows\n",
            "\n"
          ]
        }
      ]
    },
    {
      "cell_type": "code",
      "source": [
        "cleaned_stocks.printSchema()"
      ],
      "metadata": {
        "colab": {
          "base_uri": "https://localhost:8080/"
        },
        "id": "0E9paxqMlvmy",
        "outputId": "4886c35f-a135-4d55-c837-8a47f58c30cb"
      },
      "execution_count": 238,
      "outputs": [
        {
          "output_type": "stream",
          "name": "stdout",
          "text": [
            "root\n",
            " |-- Ticker: string (nullable = true)\n",
            " |-- ParsedDate: date (nullable = true)\n",
            " |-- Volume: integer (nullable = true)\n",
            " |-- Open: float (nullable = true)\n",
            " |-- Low: float (nullable = true)\n",
            " |-- High: float (nullable = true)\n",
            " |-- Close: float (nullable = true)\n",
            "\n"
          ]
        }
      ]
    },
    {
      "cell_type": "code",
      "source": [
        "#calculating basic stastics about data => Calculate average stock price\n",
        "cleaned_stocks.describe([\"Volume\",\"Open\",\"Low\",\"High\",\"Close\"]).show()"
      ],
      "metadata": {
        "colab": {
          "base_uri": "https://localhost:8080/"
        },
        "id": "uXWk0nhFl5Yq",
        "outputId": "0fa87901-b97a-41d6-bc5f-4217b5fb2d5d"
      },
      "execution_count": 239,
      "outputs": [
        {
          "output_type": "stream",
          "name": "stdout",
          "text": [
            "+-------+--------------------+------------------+------------------+------------------+------------------+\n",
            "|summary|              Volume|              Open|               Low|              High|             Close|\n",
            "+-------+--------------------+------------------+------------------+------------------+------------------+\n",
            "|  count|               15108|             15108|             15108|             15108|             15108|\n",
            "|   mean|5.1868408793685466E7|180.09656566181036| 177.9982781513109| 182.1253348687101| 180.1256089860054|\n",
            "| stddev| 5.496484129953464E7|101.16125813324383|100.26590135955234|101.96625521621753|101.14891782168543|\n",
            "|    min|              961133|             12.07|              11.8|             12.45|             11.93|\n",
            "|    max|           914080943|            479.22|            476.06|            479.98|            477.71|\n",
            "+-------+--------------------+------------------+------------------+------------------+------------------+\n",
            "\n"
          ]
        }
      ]
    },
    {
      "cell_type": "markdown",
      "source": [
        "#2 - Basic Stock Analysis"
      ],
      "metadata": {
        "id": "YFpV3aTgo7mt"
      }
    },
    {
      "cell_type": "code",
      "source": [
        "#calculate maximum stock price for varios stocks\n",
        "cleaned_stocks.groupBy(\"Ticker\").max(\"Open\").show(15)"
      ],
      "metadata": {
        "colab": {
          "base_uri": "https://localhost:8080/"
        },
        "id": "b97xEuObmm5a",
        "outputId": "4b64a469-f585-4bc8-f4d5-39bb7650533e"
      },
      "execution_count": 240,
      "outputs": [
        {
          "output_type": "stream",
          "name": "stdout",
          "text": [
            "+------+---------+\n",
            "|Ticker|max(Open)|\n",
            "+------+---------+\n",
            "| BRK-B|   361.39|\n",
            "|  AAPL|   182.63|\n",
            "|  META|   381.68|\n",
            "|  TSLA|   411.47|\n",
            "|  AMZN|    187.2|\n",
            "|  MSFT|   344.62|\n",
            "|   TSM|   141.61|\n",
            "|   QQQ|   405.57|\n",
            "|     V|   250.05|\n",
            "| GOOGL|   151.25|\n",
            "|   SPY|   479.22|\n",
            "|  NVDA|   405.95|\n",
            "+------+---------+\n",
            "\n"
          ]
        }
      ]
    },
    {
      "cell_type": "code",
      "source": [
        "cleaned_stocks.groupBy(\"Ticker\").max(\"Open\").withColumnRenamed(\"max(Open)\",\"MaxStockPrice\").show(15)"
      ],
      "metadata": {
        "colab": {
          "base_uri": "https://localhost:8080/"
        },
        "id": "EmgGPJP8p17w",
        "outputId": "1e3b1863-9d63-481f-d292-55a67a513e3d"
      },
      "execution_count": 241,
      "outputs": [
        {
          "output_type": "stream",
          "name": "stdout",
          "text": [
            "+------+-------------+\n",
            "|Ticker|MaxStockPrice|\n",
            "+------+-------------+\n",
            "| BRK-B|       361.39|\n",
            "|  AAPL|       182.63|\n",
            "|  META|       381.68|\n",
            "|  TSLA|       411.47|\n",
            "|  AMZN|        187.2|\n",
            "|  MSFT|       344.62|\n",
            "|   TSM|       141.61|\n",
            "|   QQQ|       405.57|\n",
            "|     V|       250.05|\n",
            "| GOOGL|       151.25|\n",
            "|   SPY|       479.22|\n",
            "|  NVDA|       405.95|\n",
            "+------+-------------+\n",
            "\n"
          ]
        }
      ]
    },
    {
      "cell_type": "code",
      "source": [
        "import pyspark.sql.functions as func"
      ],
      "metadata": {
        "id": "YjMhdG4VqHbO"
      },
      "execution_count": 242,
      "outputs": []
    },
    {
      "cell_type": "code",
      "source": [
        "cleaned_stocks = cleaned_stocks.withColumn(\"Year\",func.year(cleaned_stocks.ParsedDate))\\\n",
        ".withColumn(\"Month\", func.month(cleaned_stocks.ParsedDate))\\\n",
        ".withColumn(\"Day\", func.dayofmonth(cleaned_stocks.ParsedDate))\\\n",
        ".withColumn(\"Week\", func.weekofyear(cleaned_stocks.ParsedDate))"
      ],
      "metadata": {
        "id": "HLEBvSq4r3Pv"
      },
      "execution_count": 243,
      "outputs": []
    },
    {
      "cell_type": "code",
      "source": [
        "cleaned_stocks.show(10)"
      ],
      "metadata": {
        "colab": {
          "base_uri": "https://localhost:8080/"
        },
        "id": "tdpTjXt0sO-X",
        "outputId": "3c6a42a2-6c7a-424a-8eb4-5265fcc88201"
      },
      "execution_count": 244,
      "outputs": [
        {
          "output_type": "stream",
          "name": "stdout",
          "text": [
            "+------+----------+-------+------+------+------+------+----+-----+---+----+\n",
            "|Ticker|ParsedDate| Volume|  Open|   Low|  High| Close|Year|Month|Day|Week|\n",
            "+------+----------+-------+------+------+------+------+----+-----+---+----+\n",
            "| BRK-B|2023-05-31|6175417|321.12|319.39|322.41|321.08|2023|    5| 31|  22|\n",
            "| BRK-B|2023-05-30|3232461|321.86| 319.0|322.47|322.19|2023|    5| 30|  22|\n",
            "| BRK-B|2023-05-26|3229873|320.44|319.67|322.63| 320.6|2023|    5| 26|  21|\n",
            "| BRK-B|2023-05-25|4251935|320.56|317.71|320.56|319.02|2023|    5| 25|  21|\n",
            "| BRK-B|2023-05-24|3075393|322.71|319.56| 323.0| 320.2|2023|    5| 24|  21|\n",
            "| BRK-B|2023-05-23|4031342|328.19|322.97|329.27|323.11|2023|    5| 23|  21|\n",
            "| BRK-B|2023-05-22|2763422|330.75|328.35|331.49|329.13|2023|    5| 22|  21|\n",
            "| BRK-B|2023-05-19|4323538| 331.0|329.12|333.94|330.39|2023|    5| 19|  20|\n",
            "| BRK-B|2023-05-18|2808329|326.87|325.85|329.98|329.76|2023|    5| 18|  20|\n",
            "| BRK-B|2023-05-17|3047626|325.02|324.82|328.26|327.39|2023|    5| 17|  20|\n",
            "+------+----------+-------+------+------+------+------+----+-----+---+----+\n",
            "only showing top 10 rows\n",
            "\n"
          ]
        }
      ]
    },
    {
      "cell_type": "code",
      "source": [
        "yearly = cleaned_stocks.groupBy(\"Ticker\",\"Year\").agg(func.max(\"Open\").alias(\"YearlyHigh\"),func.min(\"Open\").alias(\"YearlyLow\"))"
      ],
      "metadata": {
        "id": "jYkATZrttNn1"
      },
      "execution_count": 245,
      "outputs": []
    },
    {
      "cell_type": "code",
      "source": [
        "yearly.show()"
      ],
      "metadata": {
        "colab": {
          "base_uri": "https://localhost:8080/"
        },
        "id": "VJy7FCZ0uAnF",
        "outputId": "55ec1ff7-ad25-44e1-de6c-ae63089ccb3c"
      },
      "execution_count": 246,
      "outputs": [
        {
          "output_type": "stream",
          "name": "stdout",
          "text": [
            "+------+----+----------+---------+\n",
            "|Ticker|Year|YearlyHigh|YearlyLow|\n",
            "+------+----+----------+---------+\n",
            "|  META|2020|    300.16|   139.75|\n",
            "| BRK-B|2023|     331.0|   294.68|\n",
            "|  MSFT|2019|    159.45|    99.55|\n",
            "|  MSFT|2021|    344.62|   212.17|\n",
            "| BRK-B|2018|     224.0|   185.43|\n",
            "|  META|2021|    381.68|    247.9|\n",
            "|  TSLA|2019|      29.0|    12.07|\n",
            "|  META|2018|    215.72|    123.1|\n",
            "|  AAPL|2020|    138.05|    57.02|\n",
            "|  MSFT|2020|    229.27|   137.01|\n",
            "|  TSLA|2021|    411.47|   184.18|\n",
            "| BRK-B|2021|    300.88|   228.21|\n",
            "|  TSLA|2018|      25.0|    17.02|\n",
            "|  MSFT|2018|    115.42|    95.14|\n",
            "|  AMZN|2020|    177.35|    82.08|\n",
            "|  META|2022|    339.95|    90.08|\n",
            "|  AAPL|2022|    182.63|   127.99|\n",
            "|  META|2019|    208.67|   128.99|\n",
            "|  TSLA|2020|    233.33|    24.98|\n",
            "|  AMZN|2022|    170.44|     82.8|\n",
            "+------+----+----------+---------+\n",
            "only showing top 20 rows\n",
            "\n"
          ]
        }
      ]
    },
    {
      "cell_type": "code",
      "source": [
        "monthly = cleaned_stocks.groupBy(\"Ticker\",\"Year\",\"Month\").agg(func.max(\"Open\").alias(\"MonthlyHigh\"),func.min(\"Open\").alias(\"Monthlylow\"))\n",
        "weekly = cleaned_stocks.groupBy(\"Ticker\",\"Year\",\"Week\").agg(func.max(\"Open\").alias(\"WeeklyHigh\"),func.min(\"Open\").alias(\"Weeklylow\"))"
      ],
      "metadata": {
        "id": "1E275azWuDdt"
      },
      "execution_count": 247,
      "outputs": []
    },
    {
      "cell_type": "code",
      "source": [
        "monthly.show()"
      ],
      "metadata": {
        "colab": {
          "base_uri": "https://localhost:8080/"
        },
        "id": "ueE8g5DuvBvz",
        "outputId": "4c9d53ca-6087-459f-f69f-72d382607620"
      },
      "execution_count": 248,
      "outputs": [
        {
          "output_type": "stream",
          "name": "stdout",
          "text": [
            "+------+----+-----+-----------+----------+\n",
            "|Ticker|Year|Month|MonthlyHigh|Monthlylow|\n",
            "+------+----+-----+-----------+----------+\n",
            "| BRK-B|2022|   10|     297.98|    260.58|\n",
            "|  META|2020|    6|     241.28|    209.75|\n",
            "| BRK-B|2018|    9|     222.13|    209.21|\n",
            "|  MSFT|2022|    6|      275.2|    243.86|\n",
            "|  MSFT|2021|    2|     245.03|    230.01|\n",
            "|  MSFT|2020|    1|     174.05|    157.08|\n",
            "| BRK-B|2021|   10|     290.85|    273.02|\n",
            "| BRK-B|2020|   10|     216.74|    200.03|\n",
            "|  TSLA|2023|    4|     199.91|    152.64|\n",
            "|  TSLA|2019|    4|      19.22|     15.72|\n",
            "|  AMZN|2018|    5|      81.15|     81.15|\n",
            "|  MSFT|2019|    6|     137.45|    121.28|\n",
            "|  META|2023|    4|     239.89|    208.84|\n",
            "|  AMZN|2020|    2|     108.65|     90.73|\n",
            "|  MSFT|2022|   10|     247.93|    219.85|\n",
            "|  AMZN|2022|    3|     170.38|    136.68|\n",
            "|  TSLA|2020|   10|     151.48|    135.63|\n",
            "| BRK-B|2019|    9|     212.24|    201.19|\n",
            "|  TSLA|2021|   12|      386.9|    303.57|\n",
            "| BRK-B|2021|    6|     292.91|     275.0|\n",
            "+------+----+-----+-----------+----------+\n",
            "only showing top 20 rows\n",
            "\n"
          ]
        }
      ]
    },
    {
      "cell_type": "code",
      "source": [
        "weekly.show()"
      ],
      "metadata": {
        "colab": {
          "base_uri": "https://localhost:8080/"
        },
        "id": "DT8vSTpTv0BU",
        "outputId": "43c45dd7-7f99-4a98-9191-5144b60eabab"
      },
      "execution_count": 249,
      "outputs": [
        {
          "output_type": "stream",
          "name": "stdout",
          "text": [
            "+------+----+----+----------+---------+\n",
            "|Ticker|Year|Week|WeeklyHigh|Weeklylow|\n",
            "+------+----+----+----------+---------+\n",
            "| BRK-B|2022|  14|     352.0|   341.17|\n",
            "| BRK-B|2022|  10|    326.59|   322.49|\n",
            "| BRK-B|2021|  14|    264.22|   260.02|\n",
            "|  META|2022|  43|    131.68|    97.98|\n",
            "|  META|2020|   6|    212.51|   203.44|\n",
            "|  TSLA|2022|  20|    255.72|   235.67|\n",
            "|  TSLA|2020|  19|     52.92|    46.73|\n",
            "|  TSLA|2020|  16|     51.49|    39.34|\n",
            "|  TSLA|2018|  39|     20.86|    18.02|\n",
            "| BRK-B|2018|  48|    217.23|    209.3|\n",
            "|  MSFT|2022|   6|    309.87|   301.25|\n",
            "|  MSFT|2021|   2|    218.47|   213.52|\n",
            "|  META|2022|  40|    140.49|   136.76|\n",
            "|  AAPL|2020|  27|     91.96|    88.31|\n",
            "| BRK-B|2020|  19|    180.05|    173.4|\n",
            "|  MSFT|2020|   1|    158.78|   158.32|\n",
            "|  META|2020|  36|    298.88|   287.25|\n",
            "|  AAPL|2021|  25|    134.45|    130.3|\n",
            "|  AAPL|2020|  46|     120.5|   115.55|\n",
            "| BRK-B|2021|  32|    291.81|   287.01|\n",
            "+------+----+----+----------+---------+\n",
            "only showing top 20 rows\n",
            "\n"
          ]
        }
      ]
    },
    {
      "cell_type": "code",
      "source": [
        "weekly.withColumn(\"Spread\",weekly['WeeklyHigh'] - weekly['Weeklylow']).show()"
      ],
      "metadata": {
        "colab": {
          "base_uri": "https://localhost:8080/"
        },
        "id": "Jv0Q9b6Yv3G7",
        "outputId": "5eda5134-1dfe-48cc-c7b1-4de675bc45a4"
      },
      "execution_count": 250,
      "outputs": [
        {
          "output_type": "stream",
          "name": "stdout",
          "text": [
            "+------+----+----+----------+---------+----------+\n",
            "|Ticker|Year|Week|WeeklyHigh|Weeklylow|    Spread|\n",
            "+------+----+----+----------+---------+----------+\n",
            "| BRK-B|2022|  14|     352.0|   341.17| 10.829987|\n",
            "| BRK-B|2022|  10|    326.59|   322.49|  4.100006|\n",
            "| BRK-B|2021|  14|    264.22|   260.02|  4.200012|\n",
            "|  META|2022|  43|    131.68|    97.98|  33.69999|\n",
            "|  META|2020|   6|    212.51|   203.44|  9.069992|\n",
            "|  TSLA|2022|  20|    255.72|   235.67| 20.050003|\n",
            "|  TSLA|2020|  19|     52.92|    46.73| 6.1899986|\n",
            "|  TSLA|2020|  16|     51.49|    39.34| 12.150002|\n",
            "|  TSLA|2018|  39|     20.86|    18.02| 2.8400002|\n",
            "| BRK-B|2018|  48|    217.23|    209.3| 7.9299927|\n",
            "|  MSFT|2022|   6|    309.87|   301.25|  8.619995|\n",
            "|  MSFT|2021|   2|    218.47|   213.52|  4.949997|\n",
            "|  META|2022|  40|    140.49|   136.76|  3.730011|\n",
            "|  AAPL|2020|  27|     91.96|    88.31| 3.6500015|\n",
            "| BRK-B|2020|  19|    180.05|    173.4|  6.650009|\n",
            "|  MSFT|2020|   1|    158.78|   158.32|0.45999146|\n",
            "|  META|2020|  36|    298.88|   287.25| 11.630005|\n",
            "|  AAPL|2021|  25|    134.45|    130.3|  4.149994|\n",
            "|  AAPL|2020|  46|     120.5|   115.55|  4.949997|\n",
            "| BRK-B|2021|  32|    291.81|   287.01|  4.799988|\n",
            "+------+----+----+----------+---------+----------+\n",
            "only showing top 20 rows\n",
            "\n"
          ]
        }
      ]
    },
    {
      "cell_type": "markdown",
      "source": [
        "#3-Joins"
      ],
      "metadata": {
        "id": "szCaNiB_xpSq"
      }
    },
    {
      "cell_type": "code",
      "source": [
        "#joins\n",
        "historic_stocks = cleaned_stocks.join(yearly,(cleaned_stocks.Ticker == yearly.Ticker) &  (cleaned_stocks.Year == yearly.Year),'inner')"
      ],
      "metadata": {
        "id": "RDTyzYQNw0tT"
      },
      "execution_count": 261,
      "outputs": []
    },
    {
      "cell_type": "code",
      "source": [
        "historic_stocks = cleaned_stocks.join(yearly,(cleaned_stocks.Ticker == yearly.Ticker) & (cleaned_stocks.Year == yearly.Year),'inner').drop(yearly.Year,yearly.Ticker)"
      ],
      "metadata": {
        "id": "2LI5EkgxynGK"
      },
      "execution_count": 262,
      "outputs": []
    },
    {
      "cell_type": "code",
      "source": [
        "cond = [(historic_stocks.Ticker == weekly.Ticker) & (historic_stocks.Year == weekly.Year) & (historic_stocks.Week == weekly.Week)]"
      ],
      "metadata": {
        "id": "W63bjQl2z9MY"
      },
      "execution_count": 263,
      "outputs": []
    },
    {
      "cell_type": "code",
      "source": [
        "historic_stocks = historic_stocks.join(weekly , cond ,'inner').drop(weekly.Year,historic_stocks.Ticker,weekly.Week)"
      ],
      "metadata": {
        "id": "Zr-2sMnM-m2x"
      },
      "execution_count": 264,
      "outputs": []
    },
    {
      "cell_type": "code",
      "source": [
        "historic_stocks = historic_stocks.join(monthly,['Ticker','Year','Month'])"
      ],
      "metadata": {
        "id": "cM0rFmuH_5_J"
      },
      "execution_count": 265,
      "outputs": []
    },
    {
      "cell_type": "code",
      "source": [
        "historic_stocks.columns"
      ],
      "metadata": {
        "colab": {
          "base_uri": "https://localhost:8080/"
        },
        "id": "pUHJ1gHGBHfY",
        "outputId": "0a6f42d6-284f-4ede-a30e-2aa78658ab62"
      },
      "execution_count": 266,
      "outputs": [
        {
          "output_type": "execute_result",
          "data": {
            "text/plain": [
              "['Ticker',\n",
              " 'Year',\n",
              " 'Month',\n",
              " 'ParsedDate',\n",
              " 'Volume',\n",
              " 'Open',\n",
              " 'Low',\n",
              " 'High',\n",
              " 'Close',\n",
              " 'Day',\n",
              " 'YearlyHigh',\n",
              " 'YearlyLow',\n",
              " 'Week',\n",
              " 'WeeklyHigh',\n",
              " 'Weeklylow',\n",
              " 'MonthlyHigh',\n",
              " 'Monthlylow']"
            ]
          },
          "metadata": {},
          "execution_count": 266
        }
      ]
    },
    {
      "cell_type": "code",
      "source": [
        "final_stocks = historic_stocks.select(['Ticker','Year','Month','Day','Week','ParsedDate','Volume','Open','Low','High','Close','YearlyHigh','YearlyLow','WeeklyHigh','Weeklylow','MonthlyHigh','Monthlylow'])"
      ],
      "metadata": {
        "id": "EBwN5FQ-BvAn"
      },
      "execution_count": 269,
      "outputs": []
    },
    {
      "cell_type": "code",
      "source": [
        "final_stocks.show(5)"
      ],
      "metadata": {
        "colab": {
          "base_uri": "https://localhost:8080/"
        },
        "id": "qCgesAcsCWd_",
        "outputId": "f830f1d6-8de6-4363-8763-b45daeeac890"
      },
      "execution_count": 270,
      "outputs": [
        {
          "output_type": "stream",
          "name": "stdout",
          "text": [
            "+------+----+-----+---+----+----------+-------+------+------+------+------+----------+---------+----------+---------+-----------+----------+\n",
            "|Ticker|Year|Month|Day|Week|ParsedDate| Volume|  Open|   Low|  High| Close|YearlyHigh|YearlyLow|WeeklyHigh|Weeklylow|MonthlyHigh|Monthlylow|\n",
            "+------+----+-----+---+----+----------+-------+------+------+------+------+----------+---------+----------+---------+-----------+----------+\n",
            "| BRK-B|2023|    5| 31|  22|2023-05-31|6175417|321.12|319.39|322.41|321.08|     331.0|   294.68|    321.86|   321.12|      331.0|    320.44|\n",
            "| BRK-B|2023|    5| 30|  22|2023-05-30|3232461|321.86| 319.0|322.47|322.19|     331.0|   294.68|    321.86|   321.12|      331.0|    320.44|\n",
            "| BRK-B|2023|    5| 26|  21|2023-05-26|3229873|320.44|319.67|322.63| 320.6|     331.0|   294.68|    330.75|   320.44|      331.0|    320.44|\n",
            "| BRK-B|2023|    5| 25|  21|2023-05-25|4251935|320.56|317.71|320.56|319.02|     331.0|   294.68|    330.75|   320.44|      331.0|    320.44|\n",
            "| BRK-B|2023|    5| 24|  21|2023-05-24|3075393|322.71|319.56| 323.0| 320.2|     331.0|   294.68|    330.75|   320.44|      331.0|    320.44|\n",
            "+------+----+-----+---+----+----------+-------+------+------+------+------+----------+---------+----------+---------+-----------+----------+\n",
            "only showing top 5 rows\n",
            "\n"
          ]
        }
      ]
    },
    {
      "cell_type": "code",
      "source": [
        "#SQL Queries using pyspark\n",
        "final_stocks.createOrReplaceTempView(\"stocksData\")"
      ],
      "metadata": {
        "id": "dAF9MPjaDbLG"
      },
      "execution_count": 271,
      "outputs": []
    },
    {
      "cell_type": "code",
      "source": [
        "spark.sql(\"select * from stocksData where Ticker = 'MSFT' and Year = '2023'\").show(5)"
      ],
      "metadata": {
        "colab": {
          "base_uri": "https://localhost:8080/"
        },
        "id": "TzmrrdZwE3U1",
        "outputId": "1f23af87-d049-4a6e-900e-1e4dcedc2fbc"
      },
      "execution_count": 273,
      "outputs": [
        {
          "output_type": "stream",
          "name": "stdout",
          "text": [
            "+------+----+-----+---+----+----------+--------+------+------+------+------+----------+---------+----------+---------+-----------+----------+\n",
            "|Ticker|Year|Month|Day|Week|ParsedDate|  Volume|  Open|   Low|  High| Close|YearlyHigh|YearlyLow|WeeklyHigh|Weeklylow|MonthlyHigh|Monthlylow|\n",
            "+------+----+-----+---+----+----------+--------+------+------+------+------+----------+---------+----------+---------+-----------+----------+\n",
            "|  MSFT|2023|    5| 31|  22|2023-05-31|45950550|332.29|327.33|335.94|328.39|    335.23|    223.0|    335.23|   332.29|     335.23|    305.72|\n",
            "|  MSFT|2023|    5| 30|  22|2023-05-30|29503070|335.23|330.52|335.74|331.21|    335.23|    223.0|    335.23|   332.29|     335.23|    305.72|\n",
            "|  MSFT|2023|    5| 26|  21|2023-05-26|36630630|324.02|323.88| 333.4|332.89|    335.23|    223.0|    324.02|   314.73|     335.23|    305.72|\n",
            "|  MSFT|2023|    5| 25|  21|2023-05-25|43301740|323.24| 320.0| 326.9|325.92|    335.23|    223.0|    324.02|   314.73|     335.23|    305.72|\n",
            "|  MSFT|2023|    5| 24|  21|2023-05-24|23384890|314.73|312.61| 316.5|313.85|    335.23|    223.0|    324.02|   314.73|     335.23|    305.72|\n",
            "+------+----+-----+---+----+----------+--------+------+------+------+------+----------+---------+----------+---------+-----------+----------+\n",
            "only showing top 5 rows\n",
            "\n"
          ]
        }
      ]
    },
    {
      "cell_type": "markdown",
      "source": [
        "#4-Advanced Analysis"
      ],
      "metadata": {
        "id": "FE2GiM3MHQXI"
      }
    },
    {
      "cell_type": "code",
      "source": [
        "snapshot = cleaned_stocks.select([\"Ticker\",\"ParsedDate\",\"Open\"])"
      ],
      "metadata": {
        "id": "WKPNguDkFUtl"
      },
      "execution_count": 275,
      "outputs": []
    },
    {
      "cell_type": "code",
      "source": [
        "snapshot.show()"
      ],
      "metadata": {
        "colab": {
          "base_uri": "https://localhost:8080/"
        },
        "id": "wJ42twORHZyD",
        "outputId": "63b88992-cd0f-4574-fd1f-ec1bb25c7c35"
      },
      "execution_count": 276,
      "outputs": [
        {
          "output_type": "stream",
          "name": "stdout",
          "text": [
            "+------+----------+------+\n",
            "|Ticker|ParsedDate|  Open|\n",
            "+------+----------+------+\n",
            "| BRK-B|2023-05-31|321.12|\n",
            "| BRK-B|2023-05-30|321.86|\n",
            "| BRK-B|2023-05-26|320.44|\n",
            "| BRK-B|2023-05-25|320.56|\n",
            "| BRK-B|2023-05-24|322.71|\n",
            "| BRK-B|2023-05-23|328.19|\n",
            "| BRK-B|2023-05-22|330.75|\n",
            "| BRK-B|2023-05-19| 331.0|\n",
            "| BRK-B|2023-05-18|326.87|\n",
            "| BRK-B|2023-05-17|325.02|\n",
            "| BRK-B|2023-05-16|322.46|\n",
            "| BRK-B|2023-05-15|322.89|\n",
            "| BRK-B|2023-05-12|323.82|\n",
            "| BRK-B|2023-05-11| 321.0|\n",
            "| BRK-B|2023-05-10|326.08|\n",
            "| BRK-B|2023-05-09|324.87|\n",
            "| BRK-B|2023-05-08|328.26|\n",
            "| BRK-B|2023-05-05|323.36|\n",
            "| BRK-B|2023-05-04|323.44|\n",
            "| BRK-B|2023-05-03|327.13|\n",
            "+------+----------+------+\n",
            "only showing top 20 rows\n",
            "\n"
          ]
        }
      ]
    },
    {
      "cell_type": "code",
      "source": [
        "from pyspark.sql.window import Window"
      ],
      "metadata": {
        "id": "Uzl-HyeGHqMc"
      },
      "execution_count": 277,
      "outputs": []
    },
    {
      "cell_type": "code",
      "source": [
        "lag1Day = Window.partitionBy(\"Ticker\").orderBy(cleaned_stocks.ParsedDate)"
      ],
      "metadata": {
        "id": "vAUv0sR6HuzM"
      },
      "execution_count": 278,
      "outputs": []
    },
    {
      "cell_type": "code",
      "source": [
        "snapshot.withColumn(\"PreviousOpen\" , func.lag(\"open\", 1).over(lag1Day)).show()"
      ],
      "metadata": {
        "colab": {
          "base_uri": "https://localhost:8080/"
        },
        "id": "X8AIBxBWH2BF",
        "outputId": "dc6121c8-1f7d-4d6c-b5ee-3890d8633a67"
      },
      "execution_count": 281,
      "outputs": [
        {
          "output_type": "stream",
          "name": "stdout",
          "text": [
            "+------+----------+-----+------------+\n",
            "|Ticker|ParsedDate| Open|PreviousOpen|\n",
            "+------+----------+-----+------------+\n",
            "|  AAPL|2018-05-31|46.81|        NULL|\n",
            "|  AAPL|2018-06-01| 47.0|       46.81|\n",
            "|  AAPL|2018-06-04|47.91|        47.0|\n",
            "|  AAPL|2018-06-05|48.27|       47.91|\n",
            "|  AAPL|2018-06-06|48.41|       48.27|\n",
            "|  AAPL|2018-06-07|48.54|       48.41|\n",
            "|  AAPL|2018-06-08|47.79|       48.54|\n",
            "|  AAPL|2018-06-11|47.84|       47.79|\n",
            "|  AAPL|2018-06-12|47.85|       47.84|\n",
            "|  AAPL|2018-06-13|48.11|       47.85|\n",
            "|  AAPL|2018-06-14|47.89|       48.11|\n",
            "|  AAPL|2018-06-15|47.51|       47.89|\n",
            "|  AAPL|2018-06-18|46.97|       47.51|\n",
            "|  AAPL|2018-06-19|46.29|       46.97|\n",
            "|  AAPL|2018-06-20|46.59|       46.29|\n",
            "|  AAPL|2018-06-21|46.81|       46.59|\n",
            "|  AAPL|2018-06-22|46.53|       46.81|\n",
            "|  AAPL|2018-06-25|45.85|       46.53|\n",
            "|  AAPL|2018-06-26|45.75|       45.85|\n",
            "|  AAPL|2018-06-27|46.31|       45.75|\n",
            "+------+----------+-----+------------+\n",
            "only showing top 20 rows\n",
            "\n"
          ]
        }
      ]
    },
    {
      "cell_type": "code",
      "source": [
        "# calculate moving average\n",
        "movingAverage = Window.partitionBy(\"Ticker\").orderBy(cleaned_stocks.ParsedDate).rowsBetween(-50,0)"
      ],
      "metadata": {
        "id": "mw8-wuPsIQmC"
      },
      "execution_count": 282,
      "outputs": []
    },
    {
      "cell_type": "code",
      "source": [
        "(snapshot.withColumn(\"MA50\",func.avg(\"Open\").over(movingAverage))\n",
        "         .withColumn(\"MA50\",func.round(\"MA50\",2))).show()"
      ],
      "metadata": {
        "colab": {
          "base_uri": "https://localhost:8080/"
        },
        "id": "ElGE0Ho3I4-C",
        "outputId": "0b9c63f8-28a8-4106-ac99-c3a0e8ebb00e"
      },
      "execution_count": 287,
      "outputs": [
        {
          "output_type": "stream",
          "name": "stdout",
          "text": [
            "+------+----------+-----+-----+\n",
            "|Ticker|ParsedDate| Open| MA50|\n",
            "+------+----------+-----+-----+\n",
            "|  AAPL|2018-05-31|46.81|46.81|\n",
            "|  AAPL|2018-06-01| 47.0|46.91|\n",
            "|  AAPL|2018-06-04|47.91|47.24|\n",
            "|  AAPL|2018-06-05|48.27| 47.5|\n",
            "|  AAPL|2018-06-06|48.41|47.68|\n",
            "|  AAPL|2018-06-07|48.54|47.82|\n",
            "|  AAPL|2018-06-08|47.79|47.82|\n",
            "|  AAPL|2018-06-11|47.84|47.82|\n",
            "|  AAPL|2018-06-12|47.85|47.82|\n",
            "|  AAPL|2018-06-13|48.11|47.85|\n",
            "|  AAPL|2018-06-14|47.89|47.86|\n",
            "|  AAPL|2018-06-15|47.51|47.83|\n",
            "|  AAPL|2018-06-18|46.97|47.76|\n",
            "|  AAPL|2018-06-19|46.29|47.66|\n",
            "|  AAPL|2018-06-20|46.59|47.59|\n",
            "|  AAPL|2018-06-21|46.81|47.54|\n",
            "|  AAPL|2018-06-22|46.53|47.48|\n",
            "|  AAPL|2018-06-25|45.85|47.39|\n",
            "|  AAPL|2018-06-26|45.75| 47.3|\n",
            "|  AAPL|2018-06-27|46.31|47.25|\n",
            "+------+----------+-----+-----+\n",
            "only showing top 20 rows\n",
            "\n"
          ]
        }
      ]
    },
    {
      "cell_type": "code",
      "source": [
        "maximumStock = Window.partitionBy(\"Ticker\").orderBy(snapshot.Open.desc())"
      ],
      "metadata": {
        "id": "2QLRXDcEI_Zq"
      },
      "execution_count": 288,
      "outputs": []
    },
    {
      "cell_type": "code",
      "source": [
        "snapshot.withColumn(\"MaxOpen\", func.row_number().over(maximumStock)).show()"
      ],
      "metadata": {
        "colab": {
          "base_uri": "https://localhost:8080/"
        },
        "id": "4QTf4THKKAeR",
        "outputId": "60992859-de65-4942-dbf1-f9171e63c796"
      },
      "execution_count": 290,
      "outputs": [
        {
          "output_type": "stream",
          "name": "stdout",
          "text": [
            "+------+----------+------+-------+\n",
            "|Ticker|ParsedDate|  Open|MaxOpen|\n",
            "+------+----------+------+-------+\n",
            "|  AAPL|2022-01-04|182.63|      1|\n",
            "|  AAPL|2021-12-13|181.12|      2|\n",
            "|  AAPL|2021-12-28|180.16|      3|\n",
            "|  AAPL|2022-01-05|179.61|      4|\n",
            "|  AAPL|2021-12-30|179.47|      5|\n",
            "|  AAPL|2021-12-29|179.33|      6|\n",
            "|  AAPL|2021-12-16|179.28|      7|\n",
            "|  AAPL|2022-03-30|178.55|      8|\n",
            "|  AAPL|2021-12-31|178.09|      9|\n",
            "|  AAPL|2022-03-31|177.84|     10|\n",
            "|  AAPL|2022-01-03|177.83|     11|\n",
            "|  AAPL|2022-04-05| 177.5|     12|\n",
            "|  AAPL|2023-05-31|177.33|     13|\n",
            "|  AAPL|2021-12-27|177.09|     14|\n",
            "|  AAPL|2023-05-30|176.96|     15|\n",
            "|  AAPL|2022-03-29|176.69|     16|\n",
            "|  AAPL|2023-05-19|176.39|     17|\n",
            "|  AAPL|2022-01-12|176.12|     18|\n",
            "|  AAPL|2022-02-09|176.05|     19|\n",
            "|  AAPL|2021-12-23|175.85|     20|\n",
            "+------+----------+------+-------+\n",
            "only showing top 20 rows\n",
            "\n"
          ]
        }
      ]
    },
    {
      "cell_type": "code",
      "source": [
        "#calculate top 5 highest close price for each stock in a year\n",
        "snapshot.withColumn(\"MaxOpen\", func.row_number().over(maximumStock)).filter(\"MaxOpen <=5\").show()"
      ],
      "metadata": {
        "colab": {
          "base_uri": "https://localhost:8080/"
        },
        "id": "zBoYXnp8KN5R",
        "outputId": "ea19d157-f19e-43fb-cd8e-1746b3015efa"
      },
      "execution_count": 291,
      "outputs": [
        {
          "output_type": "stream",
          "name": "stdout",
          "text": [
            "+------+----------+------+-------+\n",
            "|Ticker|ParsedDate|  Open|MaxOpen|\n",
            "+------+----------+------+-------+\n",
            "|  AAPL|2022-01-04|182.63|      1|\n",
            "|  AAPL|2021-12-13|181.12|      2|\n",
            "|  AAPL|2021-12-28|180.16|      3|\n",
            "|  AAPL|2022-01-05|179.61|      4|\n",
            "|  AAPL|2021-12-30|179.47|      5|\n",
            "|  AMZN|2021-07-12| 187.2|      1|\n",
            "|  AMZN|2021-07-09|186.13|      2|\n",
            "|  AMZN|2021-07-07|185.87|      3|\n",
            "|  AMZN|2021-11-19|185.63|      4|\n",
            "|  AMZN|2021-07-14|185.44|      5|\n",
            "| BRK-B|2022-03-29|361.39|      1|\n",
            "| BRK-B|2022-03-28|360.59|      2|\n",
            "| BRK-B|2022-03-31| 359.0|      3|\n",
            "| BRK-B|2022-03-30|354.66|      4|\n",
            "| BRK-B|2022-03-25| 353.9|      5|\n",
            "| GOOGL|2022-02-02|151.25|      1|\n",
            "| GOOGL|2021-11-19|149.98|      2|\n",
            "| GOOGL|2021-11-08|149.83|      3|\n",
            "| GOOGL|2021-11-22|149.33|      4|\n",
            "| GOOGL|2021-11-09|149.23|      5|\n",
            "+------+----------+------+-------+\n",
            "only showing top 20 rows\n",
            "\n"
          ]
        }
      ]
    },
    {
      "cell_type": "code",
      "source": [
        "result = snapshot.withColumn(\"MaxOpen\", func.row_number().over(maximumStock)).filter(\"MaxOpen <=5\")"
      ],
      "metadata": {
        "id": "3yYbELTPLUZX"
      },
      "execution_count": 292,
      "outputs": []
    },
    {
      "cell_type": "markdown",
      "source": [
        "# 5-Saving Data\n"
      ],
      "metadata": {
        "id": "1c68RptHL18Q"
      }
    },
    {
      "cell_type": "code",
      "source": [
        "#paraqet format\n",
        "(result.write.option(\"header\" , True)\n",
        "            .partitionBy(\"Ticker\" , \"ParsedDate\")\n",
        "            .mode(\"overwrite\")\n",
        "            .parquet(\"/content/ PySpark - Stock Market Price Analysis Project/result_parquet\"))"
      ],
      "metadata": {
        "id": "de_xUQC7L1FU"
      },
      "execution_count": 299,
      "outputs": []
    },
    {
      "cell_type": "code",
      "source": [
        "#CSV Format\n",
        "(result.write.option(\"header\" , True)\n",
        "            .partitionBy(\"Ticker\")\n",
        "            .mode(\"overwrite\")\n",
        "            .csv(\"/content/ PySpark - Stock Market Price Analysis Project/result_csv\"))"
      ],
      "metadata": {
        "id": "U6aR4YxPM2Fn"
      },
      "execution_count": 300,
      "outputs": []
    },
    {
      "cell_type": "code",
      "source": [],
      "metadata": {
        "id": "EpkTe5ezObWP"
      },
      "execution_count": null,
      "outputs": []
    }
  ]
}